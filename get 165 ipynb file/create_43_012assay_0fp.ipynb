{
 "cells": [
  {
   "cell_type": "code",
   "execution_count": 7,
   "metadata": {},
   "outputs": [],
   "source": [
    "file_name = '0_assay_0_fp_sklearn_allAlgorithm_10foldcv-kaggle.ipynb'"
   ]
  },
  {
   "cell_type": "code",
   "execution_count": 8,
   "metadata": {},
   "outputs": [],
   "source": [
    "f = open(file_name,'r',encoding='UTF8')\n",
    "file = f.readlines()"
   ]
  },
  {
   "cell_type": "code",
   "execution_count": 11,
   "metadata": {},
   "outputs": [
    {
     "data": {
      "text/plain": [
       "'    \"assay_index = 0\\\\n\",\\n'"
      ]
     },
     "execution_count": 11,
     "metadata": {},
     "output_type": "execute_result"
    }
   ],
   "source": [
    "file[10]"
   ]
  },
  {
   "cell_type": "code",
   "execution_count": 12,
   "metadata": {},
   "outputs": [
    {
     "data": {
      "text/plain": [
       "'    \"fp_index = 0\"\\n'"
      ]
     },
     "execution_count": 12,
     "metadata": {},
     "output_type": "execute_result"
    }
   ],
   "source": [
    "file[11]"
   ]
  },
  {
   "cell_type": "code",
   "execution_count": 13,
   "metadata": {},
   "outputs": [],
   "source": [
    "import os\n",
    "dir_path = \"./43ipynb_012assay_0fp/\"\n",
    "os.mkdir(dir_path)"
   ]
  },
  {
   "cell_type": "code",
   "execution_count": 14,
   "metadata": {},
   "outputs": [],
   "source": [
    "for i in range(0,31) : \n",
    "    for j in range(0,5) :\n",
    "        f = open(file_name,'r',encoding='UTF8')\n",
    "        file = f.readlines()\n",
    "        f.close()\n",
    "        if i in [0,1,2] or j == 0 : \n",
    "            file[10] = file[10].replace(\"0\", str(i))\n",
    "            file[11] = file[11].replace(\"0\", str(j))\n",
    "\n",
    "\n",
    "            g = open(dir_path+str(i)+\"_assay_\"+str(j)+\"_fp_sklearn_allAlgorithm_10foldcv.ipynb\", 'w+',encoding='UTF8')\n",
    "            g.writelines(file)\n",
    "            g.close()\n",
    "        else : \n",
    "            pass\n"
   ]
  },
  {
   "cell_type": "code",
   "execution_count": null,
   "metadata": {},
   "outputs": [],
   "source": [
    "0 0\n",
    "0 1\n",
    "0 2\n",
    "0 3\n",
    "0 4\n",
    "1 0\n",
    "1 1\n",
    "1 2\n",
    "1 3\n",
    "1 4\n",
    "2 0\n",
    "2 1\n",
    "2 2\n",
    "2 3\n",
    "2 4\n",
    "3 0\n",
    "4 0\n",
    "5 0\n",
    "6 0\n",
    "7 0\n",
    "8 0\n",
    "9 0\n",
    "10 0\n",
    "11 0\n",
    "12 0\n",
    "13 0\n",
    "14 0\n",
    "15 0\n",
    "16 0\n",
    "17 0\n",
    "18 0\n",
    "19 0\n",
    "20 0\n",
    "21 0\n",
    "22 0\n",
    "23 0\n",
    "24 0\n",
    "25 0\n",
    "26 0\n",
    "27 0\n",
    "28 0\n",
    "29 0\n",
    "30 0"
   ]
  }
 ],
 "metadata": {
  "kernelspec": {
   "display_name": "Python 3",
   "language": "python",
   "name": "python3"
  },
  "language_info": {
   "codemirror_mode": {
    "name": "ipython",
    "version": 3
   },
   "file_extension": ".py",
   "mimetype": "text/x-python",
   "name": "python",
   "nbconvert_exporter": "python",
   "pygments_lexer": "ipython3",
   "version": "3.8.3"
  }
 },
 "nbformat": 4,
 "nbformat_minor": 4
}
